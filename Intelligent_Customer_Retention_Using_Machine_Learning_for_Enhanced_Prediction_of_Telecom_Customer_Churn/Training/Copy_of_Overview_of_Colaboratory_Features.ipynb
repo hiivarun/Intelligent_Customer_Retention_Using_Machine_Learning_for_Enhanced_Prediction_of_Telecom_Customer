{
  "cells": [
    {
      "cell_type": "markdown",
      "metadata": {
        "id": "JyG45Qk3qQLS"
      },
      "source": [
        "# Cells\n",
        "A notebook is a list of cells. Cells contain either explanatory text or executable code and its output. Click a cell to select it."
      ]
    },
    {
      "cell_type": "code",
      "execution_count": null,
      "metadata": {
        "id": "6yq539Or437J"
      },
      "outputs": [],
      "source": [
        "#import necessary libraries\n",
        "\n",
        "import pandas as pd\n",
        "\n",
        "import numpy as np\n",
        "\n",
        "import pickle\n",
        "\n",
        "import matplotlib.pyplot as plt\n",
        "\n",
        "%matplotlib inline\n",
        "\n",
        "import seaborn as sns\n",
        "\n",
        "import sklearn\n",
        "\n",
        "from sklearn.preprocessing import LabelEncoder, OneHotEncoder\n",
        "\n",
        "from sklearn.linear_model import LogisticRegression\n",
        "\n",
        "from sklearn.tree import DecisionTreeClassifier\n",
        "\n",
        "from sklearn.ensemble import RandomForestClassifier\n",
        "\n",
        "from sklearn.neighbors import KNeighborsClassifier\n",
        "\n",
        "from sklearn.svm import SVC\n",
        "\n",
        "from sklearn.model_selection import RandomizedSearchCV \n",
        "\n",
        "from imblearn.over_sampling import SMOTE\n",
        "\n",
        "from sklearn.model_selection import train_test_split\n",
        "from sklearn.preprocessing import StandardScaler\n",
        "from sklearn.metrics import accuracy_score, classification_report, confusion_matrix, f1_score"
      ]
    },
    {
      "cell_type": "markdown",
      "source": [
        "**Read the Dataset**"
      ],
      "metadata": {
        "id": "_GNoSVNsAkkx"
      }
    },
    {
      "cell_type": "code",
      "execution_count": null,
      "metadata": {
        "colab": {
          "base_uri": "https://localhost:8080/",
          "height": 488
        },
        "id": "IIqu2vyp8o_6",
        "outputId": "278efea5-15b3-403e-9a8e-7f51889e7a8f"
      },
      "outputs": [
        {
          "data": {
            "text/html": [
              "\n",
              "  <div id=\"df-e1e13ff1-ea52-4d85-9984-59330ec7ac4c\">\n",
              "    <div class=\"colab-df-container\">\n",
              "      <div>\n",
              "<style scoped>\n",
              "    .dataframe tbody tr th:only-of-type {\n",
              "        vertical-align: middle;\n",
              "    }\n",
              "\n",
              "    .dataframe tbody tr th {\n",
              "        vertical-align: top;\n",
              "    }\n",
              "\n",
              "    .dataframe thead th {\n",
              "        text-align: right;\n",
              "    }\n",
              "</style>\n",
              "<table border=\"1\" class=\"dataframe\">\n",
              "  <thead>\n",
              "    <tr style=\"text-align: right;\">\n",
              "      <th></th>\n",
              "      <th>RowNumber</th>\n",
              "      <th>CustomerId</th>\n",
              "      <th>Surname</th>\n",
              "      <th>CreditScore</th>\n",
              "      <th>Geography</th>\n",
              "      <th>Gender</th>\n",
              "      <th>Age</th>\n",
              "      <th>Tenure</th>\n",
              "      <th>Balance</th>\n",
              "      <th>NumOfProducts</th>\n",
              "      <th>HasCrCard</th>\n",
              "      <th>IsActiveMember</th>\n",
              "      <th>EstimatedSalary</th>\n",
              "      <th>Exited</th>\n",
              "    </tr>\n",
              "  </thead>\n",
              "  <tbody>\n",
              "    <tr>\n",
              "      <th>0</th>\n",
              "      <td>1</td>\n",
              "      <td>15634602</td>\n",
              "      <td>Hargrave</td>\n",
              "      <td>619</td>\n",
              "      <td>France</td>\n",
              "      <td>Female</td>\n",
              "      <td>42</td>\n",
              "      <td>2</td>\n",
              "      <td>0.00</td>\n",
              "      <td>1</td>\n",
              "      <td>1</td>\n",
              "      <td>1</td>\n",
              "      <td>101348.88</td>\n",
              "      <td>1</td>\n",
              "    </tr>\n",
              "    <tr>\n",
              "      <th>1</th>\n",
              "      <td>2</td>\n",
              "      <td>15647311</td>\n",
              "      <td>Hill</td>\n",
              "      <td>608</td>\n",
              "      <td>Spain</td>\n",
              "      <td>Female</td>\n",
              "      <td>41</td>\n",
              "      <td>1</td>\n",
              "      <td>83807.86</td>\n",
              "      <td>1</td>\n",
              "      <td>0</td>\n",
              "      <td>1</td>\n",
              "      <td>112542.58</td>\n",
              "      <td>0</td>\n",
              "    </tr>\n",
              "    <tr>\n",
              "      <th>2</th>\n",
              "      <td>3</td>\n",
              "      <td>15619304</td>\n",
              "      <td>Onio</td>\n",
              "      <td>502</td>\n",
              "      <td>France</td>\n",
              "      <td>Female</td>\n",
              "      <td>42</td>\n",
              "      <td>8</td>\n",
              "      <td>159660.80</td>\n",
              "      <td>3</td>\n",
              "      <td>1</td>\n",
              "      <td>0</td>\n",
              "      <td>113931.57</td>\n",
              "      <td>1</td>\n",
              "    </tr>\n",
              "    <tr>\n",
              "      <th>3</th>\n",
              "      <td>4</td>\n",
              "      <td>15701354</td>\n",
              "      <td>Boni</td>\n",
              "      <td>699</td>\n",
              "      <td>France</td>\n",
              "      <td>Female</td>\n",
              "      <td>39</td>\n",
              "      <td>1</td>\n",
              "      <td>0.00</td>\n",
              "      <td>2</td>\n",
              "      <td>0</td>\n",
              "      <td>0</td>\n",
              "      <td>93826.63</td>\n",
              "      <td>0</td>\n",
              "    </tr>\n",
              "    <tr>\n",
              "      <th>4</th>\n",
              "      <td>5</td>\n",
              "      <td>15737888</td>\n",
              "      <td>Mitchell</td>\n",
              "      <td>850</td>\n",
              "      <td>Spain</td>\n",
              "      <td>Female</td>\n",
              "      <td>43</td>\n",
              "      <td>2</td>\n",
              "      <td>125510.82</td>\n",
              "      <td>1</td>\n",
              "      <td>1</td>\n",
              "      <td>1</td>\n",
              "      <td>79084.10</td>\n",
              "      <td>0</td>\n",
              "    </tr>\n",
              "    <tr>\n",
              "      <th>...</th>\n",
              "      <td>...</td>\n",
              "      <td>...</td>\n",
              "      <td>...</td>\n",
              "      <td>...</td>\n",
              "      <td>...</td>\n",
              "      <td>...</td>\n",
              "      <td>...</td>\n",
              "      <td>...</td>\n",
              "      <td>...</td>\n",
              "      <td>...</td>\n",
              "      <td>...</td>\n",
              "      <td>...</td>\n",
              "      <td>...</td>\n",
              "      <td>...</td>\n",
              "    </tr>\n",
              "    <tr>\n",
              "      <th>9995</th>\n",
              "      <td>9996</td>\n",
              "      <td>15606229</td>\n",
              "      <td>Obijiaku</td>\n",
              "      <td>771</td>\n",
              "      <td>France</td>\n",
              "      <td>Male</td>\n",
              "      <td>39</td>\n",
              "      <td>5</td>\n",
              "      <td>0.00</td>\n",
              "      <td>2</td>\n",
              "      <td>1</td>\n",
              "      <td>0</td>\n",
              "      <td>96270.64</td>\n",
              "      <td>0</td>\n",
              "    </tr>\n",
              "    <tr>\n",
              "      <th>9996</th>\n",
              "      <td>9997</td>\n",
              "      <td>15569892</td>\n",
              "      <td>Johnstone</td>\n",
              "      <td>516</td>\n",
              "      <td>France</td>\n",
              "      <td>Male</td>\n",
              "      <td>35</td>\n",
              "      <td>10</td>\n",
              "      <td>57369.61</td>\n",
              "      <td>1</td>\n",
              "      <td>1</td>\n",
              "      <td>1</td>\n",
              "      <td>101699.77</td>\n",
              "      <td>0</td>\n",
              "    </tr>\n",
              "    <tr>\n",
              "      <th>9997</th>\n",
              "      <td>9998</td>\n",
              "      <td>15584532</td>\n",
              "      <td>Liu</td>\n",
              "      <td>709</td>\n",
              "      <td>France</td>\n",
              "      <td>Female</td>\n",
              "      <td>36</td>\n",
              "      <td>7</td>\n",
              "      <td>0.00</td>\n",
              "      <td>1</td>\n",
              "      <td>0</td>\n",
              "      <td>1</td>\n",
              "      <td>42085.58</td>\n",
              "      <td>1</td>\n",
              "    </tr>\n",
              "    <tr>\n",
              "      <th>9998</th>\n",
              "      <td>9999</td>\n",
              "      <td>15682355</td>\n",
              "      <td>Sabbatini</td>\n",
              "      <td>772</td>\n",
              "      <td>Germany</td>\n",
              "      <td>Male</td>\n",
              "      <td>42</td>\n",
              "      <td>3</td>\n",
              "      <td>75075.31</td>\n",
              "      <td>2</td>\n",
              "      <td>1</td>\n",
              "      <td>0</td>\n",
              "      <td>92888.52</td>\n",
              "      <td>1</td>\n",
              "    </tr>\n",
              "    <tr>\n",
              "      <th>9999</th>\n",
              "      <td>10000</td>\n",
              "      <td>15628319</td>\n",
              "      <td>Walker</td>\n",
              "      <td>792</td>\n",
              "      <td>France</td>\n",
              "      <td>Female</td>\n",
              "      <td>28</td>\n",
              "      <td>4</td>\n",
              "      <td>130142.79</td>\n",
              "      <td>1</td>\n",
              "      <td>1</td>\n",
              "      <td>0</td>\n",
              "      <td>38190.78</td>\n",
              "      <td>0</td>\n",
              "    </tr>\n",
              "  </tbody>\n",
              "</table>\n",
              "<p>10000 rows × 14 columns</p>\n",
              "</div>\n",
              "      <button class=\"colab-df-convert\" onclick=\"convertToInteractive('df-e1e13ff1-ea52-4d85-9984-59330ec7ac4c')\"\n",
              "              title=\"Convert this dataframe to an interactive table.\"\n",
              "              style=\"display:none;\">\n",
              "        \n",
              "  <svg xmlns=\"http://www.w3.org/2000/svg\" height=\"24px\"viewBox=\"0 0 24 24\"\n",
              "       width=\"24px\">\n",
              "    <path d=\"M0 0h24v24H0V0z\" fill=\"none\"/>\n",
              "    <path d=\"M18.56 5.44l.94 2.06.94-2.06 2.06-.94-2.06-.94-.94-2.06-.94 2.06-2.06.94zm-11 1L8.5 8.5l.94-2.06 2.06-.94-2.06-.94L8.5 2.5l-.94 2.06-2.06.94zm10 10l.94 2.06.94-2.06 2.06-.94-2.06-.94-.94-2.06-.94 2.06-2.06.94z\"/><path d=\"M17.41 7.96l-1.37-1.37c-.4-.4-.92-.59-1.43-.59-.52 0-1.04.2-1.43.59L10.3 9.45l-7.72 7.72c-.78.78-.78 2.05 0 2.83L4 21.41c.39.39.9.59 1.41.59.51 0 1.02-.2 1.41-.59l7.78-7.78 2.81-2.81c.8-.78.8-2.07 0-2.86zM5.41 20L4 18.59l7.72-7.72 1.47 1.35L5.41 20z\"/>\n",
              "  </svg>\n",
              "      </button>\n",
              "      \n",
              "  <style>\n",
              "    .colab-df-container {\n",
              "      display:flex;\n",
              "      flex-wrap:wrap;\n",
              "      gap: 12px;\n",
              "    }\n",
              "\n",
              "    .colab-df-convert {\n",
              "      background-color: #E8F0FE;\n",
              "      border: none;\n",
              "      border-radius: 50%;\n",
              "      cursor: pointer;\n",
              "      display: none;\n",
              "      fill: #1967D2;\n",
              "      height: 32px;\n",
              "      padding: 0 0 0 0;\n",
              "      width: 32px;\n",
              "    }\n",
              "\n",
              "    .colab-df-convert:hover {\n",
              "      background-color: #E2EBFA;\n",
              "      box-shadow: 0px 1px 2px rgba(60, 64, 67, 0.3), 0px 1px 3px 1px rgba(60, 64, 67, 0.15);\n",
              "      fill: #174EA6;\n",
              "    }\n",
              "\n",
              "    [theme=dark] .colab-df-convert {\n",
              "      background-color: #3B4455;\n",
              "      fill: #D2E3FC;\n",
              "    }\n",
              "\n",
              "    [theme=dark] .colab-df-convert:hover {\n",
              "      background-color: #434B5C;\n",
              "      box-shadow: 0px 1px 3px 1px rgba(0, 0, 0, 0.15);\n",
              "      filter: drop-shadow(0px 1px 2px rgba(0, 0, 0, 0.3));\n",
              "      fill: #FFFFFF;\n",
              "    }\n",
              "  </style>\n",
              "\n",
              "      <script>\n",
              "        const buttonEl =\n",
              "          document.querySelector('#df-e1e13ff1-ea52-4d85-9984-59330ec7ac4c button.colab-df-convert');\n",
              "        buttonEl.style.display =\n",
              "          google.colab.kernel.accessAllowed ? 'block' : 'none';\n",
              "\n",
              "        async function convertToInteractive(key) {\n",
              "          const element = document.querySelector('#df-e1e13ff1-ea52-4d85-9984-59330ec7ac4c');\n",
              "          const dataTable =\n",
              "            await google.colab.kernel.invokeFunction('convertToInteractive',\n",
              "                                                     [key], {});\n",
              "          if (!dataTable) return;\n",
              "\n",
              "          const docLinkHtml = 'Like what you see? Visit the ' +\n",
              "            '<a target=\"_blank\" href=https://colab.research.google.com/notebooks/data_table.ipynb>data table notebook</a>'\n",
              "            + ' to learn more about interactive tables.';\n",
              "          element.innerHTML = '';\n",
              "          dataTable['output_type'] = 'display_data';\n",
              "          await google.colab.output.renderOutput(dataTable, element);\n",
              "          const docLink = document.createElement('div');\n",
              "          docLink.innerHTML = docLinkHtml;\n",
              "          element.appendChild(docLink);\n",
              "        }\n",
              "      </script>\n",
              "    </div>\n",
              "  </div>\n",
              "  "
            ],
            "text/plain": [
              "      RowNumber  CustomerId    Surname  CreditScore Geography  Gender  Age  \\\n",
              "0             1    15634602   Hargrave          619    France  Female   42   \n",
              "1             2    15647311       Hill          608     Spain  Female   41   \n",
              "2             3    15619304       Onio          502    France  Female   42   \n",
              "3             4    15701354       Boni          699    France  Female   39   \n",
              "4             5    15737888   Mitchell          850     Spain  Female   43   \n",
              "...         ...         ...        ...          ...       ...     ...  ...   \n",
              "9995       9996    15606229   Obijiaku          771    France    Male   39   \n",
              "9996       9997    15569892  Johnstone          516    France    Male   35   \n",
              "9997       9998    15584532        Liu          709    France  Female   36   \n",
              "9998       9999    15682355  Sabbatini          772   Germany    Male   42   \n",
              "9999      10000    15628319     Walker          792    France  Female   28   \n",
              "\n",
              "      Tenure    Balance  NumOfProducts  HasCrCard  IsActiveMember  \\\n",
              "0          2       0.00              1          1               1   \n",
              "1          1   83807.86              1          0               1   \n",
              "2          8  159660.80              3          1               0   \n",
              "3          1       0.00              2          0               0   \n",
              "4          2  125510.82              1          1               1   \n",
              "...      ...        ...            ...        ...             ...   \n",
              "9995       5       0.00              2          1               0   \n",
              "9996      10   57369.61              1          1               1   \n",
              "9997       7       0.00              1          0               1   \n",
              "9998       3   75075.31              2          1               0   \n",
              "9999       4  130142.79              1          1               0   \n",
              "\n",
              "      EstimatedSalary  Exited  \n",
              "0           101348.88       1  \n",
              "1           112542.58       0  \n",
              "2           113931.57       1  \n",
              "3            93826.63       0  \n",
              "4            79084.10       0  \n",
              "...               ...     ...  \n",
              "9995         96270.64       0  \n",
              "9996        101699.77       0  \n",
              "9997         42085.58       1  \n",
              "9998         92888.52       1  \n",
              "9999         38190.78       0  \n",
              "\n",
              "[10000 rows x 14 columns]"
            ]
          },
          "execution_count": 15,
          "metadata": {},
          "output_type": "execute_result"
        }
      ],
      "source": [
        "#import dataset\n",
        "\n",
        "data = pd.read_csv(\"/content/sample_data/Churn_Modelling.csv\")\n",
        "\n",
        "data"
      ]
    },
    {
      "cell_type": "markdown",
      "source": [
        "**Handling missing values**"
      ],
      "metadata": {
        "id": "MwSwtGcgA7Vu"
      }
    },
    {
      "cell_type": "code",
      "execution_count": null,
      "metadata": {
        "colab": {
          "base_uri": "https://localhost:8080/"
        },
        "id": "7dLabf7aAvBk",
        "outputId": "37646db8-f09d-4066-ce0d-da36ec7b2f9d"
      },
      "outputs": [
        {
          "name": "stdout",
          "output_type": "stream",
          "text": [
            "<class 'pandas.core.frame.DataFrame'>\n",
            "RangeIndex: 10000 entries, 0 to 9999\n",
            "Data columns (total 14 columns):\n",
            " #   Column           Non-Null Count  Dtype  \n",
            "---  ------           --------------  -----  \n",
            " 0   RowNumber        10000 non-null  int64  \n",
            " 1   CustomerId       10000 non-null  int64  \n",
            " 2   Surname          10000 non-null  object \n",
            " 3   CreditScore      10000 non-null  int64  \n",
            " 4   Geography        10000 non-null  object \n",
            " 5   Gender           10000 non-null  object \n",
            " 6   Age              10000 non-null  int64  \n",
            " 7   Tenure           10000 non-null  int64  \n",
            " 8   Balance          10000 non-null  float64\n",
            " 9   NumOfProducts    10000 non-null  int64  \n",
            " 10  HasCrCard        10000 non-null  int64  \n",
            " 11  IsActiveMember   10000 non-null  int64  \n",
            " 12  EstimatedSalary  10000 non-null  float64\n",
            " 13  Exited           10000 non-null  int64  \n",
            "dtypes: float64(2), int64(9), object(3)\n",
            "memory usage: 1.1+ MB\n"
          ]
        }
      ],
      "source": [
        " data.info() "
      ]
    },
    {
      "cell_type": "code",
      "execution_count": null,
      "metadata": {
        "id": "E5iFPG0uUJIX"
      },
      "outputs": [],
      "source": [
        "#checking for null values\n",
        "data.TotalCharges = pd.to_numeric(data. TotalCharges, errors='coerce')"
      ]
    },
    {
      "cell_type": "code",
      "execution_count": null,
      "metadata": {
        "colab": {
          "base_uri": "https://localhost:8080/"
        },
        "id": "anpOFlU-UKEl",
        "outputId": "1a3dbfdf-9d2c-4d7c-e61d-95072cd588e2"
      },
      "outputs": [
        {
          "data": {
            "text/plain": [
              "RowNumber          False\n",
              "CustomerId         False\n",
              "Surname            False\n",
              "CreditScore        False\n",
              "Geography          False\n",
              "Gender             False\n",
              "Age                False\n",
              "Tenure             False\n",
              "Balance            False\n",
              "NumOfProducts      False\n",
              "HasCrCard          False\n",
              "IsActiveMember     False\n",
              "EstimatedSalary    False\n",
              "Exited             False\n",
              "dtype: bool"
            ]
          },
          "execution_count": 54,
          "metadata": {},
          "output_type": "execute_result"
        }
      ],
      "source": [
        "data.isnull().any()"
      ]
    },
    {
      "cell_type": "markdown",
      "source": [
        "**Handling Categorical Values**"
      ],
      "metadata": {
        "id": "ns78cbGFBV4h"
      }
    },
    {
      "cell_type": "code",
      "execution_count": null,
      "metadata": {
        "id": "rmiqSbg2amHz"
      },
      "outputs": [],
      "source": [
        "from sklearn.preprocessing import LabelEncoder\n",
        "le = LabelEncoder()\n",
        "data[\"Gender\"] = le.fit_transform(data[\"Gender\"])\n",
        "data[\"Age\"] = le.fit_transform(data[\"Age\"])\n",
        "data[\"Partner\"] = le.fit_transform(data[\"Partner\"])\n",
        "data[\"Dependents\"] = le.fit_transform(data[\"Dependents\"])\n",
        "data[\"PhoneService\"] = le.fit_transform(data[\"PhoneService\"])\n",
        "data[\"Multiplelines\"] = le.fit_transform(data[\"MultipleLines\"])\n",
        "data[\"InternetService\"] = le.fit_transform(data[\"InternetService\"])\n",
        "data[\"OnlineSecurity\"] = le.fit_transform(data[\"OnlineSecurity\"])\n",
        "data[\"OnlineBackup\"] = le.fit_transform(data[\"OnlineBackup\"])\n",
        "data[\"DeviceProtection\"] = le.fit_transform(data[\"DeviceProtection\"])\n",
        "data[\"TechSupport\"] = le.fit_transform(data[\"TechSupport\"])\n",
        "data[\"StreamingTV\"] = le.fit_transform(data[\"StreamingTV\"])\n",
        "data[\"StreamingMovies\"] = le.fit_transform(data[\"StreamingMovies\"])\n",
        "data[\"Contract\"] = le.fit_transform(data[\"Contract\"])\n",
        "data[\"PaperlessBilling\"] = le.fit_transform(data[\"PaperlessBilling\"])\n",
        "data[\"PaymentMethod\"] = le.fit_transform(data[\"PaymentMethod\"])\n",
        "data[\"Churn\"]= le.fit_transform(data[\"Churn\"])"
      ]
    },
    {
      "cell_type": "code",
      "execution_count": null,
      "metadata": {
        "colab": {
          "base_uri": "https://localhost:8080/",
          "height": 270
        },
        "id": "jdDx1ocyBRCi",
        "outputId": "55b8efbf-5dfa-47ca-93ed-2b26fbfc1711"
      },
      "outputs": [
        {
          "data": {
            "text/html": [
              "\n",
              "  <div id=\"df-3fa54fc0-7484-4bf1-b45f-3ff51054b3ce\">\n",
              "    <div class=\"colab-df-container\">\n",
              "      <div>\n",
              "<style scoped>\n",
              "    .dataframe tbody tr th:only-of-type {\n",
              "        vertical-align: middle;\n",
              "    }\n",
              "\n",
              "    .dataframe tbody tr th {\n",
              "        vertical-align: top;\n",
              "    }\n",
              "\n",
              "    .dataframe thead th {\n",
              "        text-align: right;\n",
              "    }\n",
              "</style>\n",
              "<table border=\"1\" class=\"dataframe\">\n",
              "  <thead>\n",
              "    <tr style=\"text-align: right;\">\n",
              "      <th></th>\n",
              "      <th>RowNumber</th>\n",
              "      <th>CustomerId</th>\n",
              "      <th>Surname</th>\n",
              "      <th>CreditScore</th>\n",
              "      <th>Geography</th>\n",
              "      <th>Gender</th>\n",
              "      <th>Age</th>\n",
              "      <th>Tenure</th>\n",
              "      <th>Balance</th>\n",
              "      <th>NumOfProducts</th>\n",
              "      <th>HasCrCard</th>\n",
              "      <th>IsActiveMember</th>\n",
              "      <th>EstimatedSalary</th>\n",
              "      <th>Exited</th>\n",
              "    </tr>\n",
              "  </thead>\n",
              "  <tbody>\n",
              "    <tr>\n",
              "      <th>0</th>\n",
              "      <td>1</td>\n",
              "      <td>15634602</td>\n",
              "      <td>Hargrave</td>\n",
              "      <td>619</td>\n",
              "      <td>France</td>\n",
              "      <td>0</td>\n",
              "      <td>24</td>\n",
              "      <td>2</td>\n",
              "      <td>0.00</td>\n",
              "      <td>1</td>\n",
              "      <td>1</td>\n",
              "      <td>1</td>\n",
              "      <td>101348.88</td>\n",
              "      <td>1</td>\n",
              "    </tr>\n",
              "    <tr>\n",
              "      <th>1</th>\n",
              "      <td>2</td>\n",
              "      <td>15647311</td>\n",
              "      <td>Hill</td>\n",
              "      <td>608</td>\n",
              "      <td>Spain</td>\n",
              "      <td>0</td>\n",
              "      <td>23</td>\n",
              "      <td>1</td>\n",
              "      <td>83807.86</td>\n",
              "      <td>1</td>\n",
              "      <td>0</td>\n",
              "      <td>1</td>\n",
              "      <td>112542.58</td>\n",
              "      <td>0</td>\n",
              "    </tr>\n",
              "    <tr>\n",
              "      <th>2</th>\n",
              "      <td>3</td>\n",
              "      <td>15619304</td>\n",
              "      <td>Onio</td>\n",
              "      <td>502</td>\n",
              "      <td>France</td>\n",
              "      <td>0</td>\n",
              "      <td>24</td>\n",
              "      <td>8</td>\n",
              "      <td>159660.80</td>\n",
              "      <td>3</td>\n",
              "      <td>1</td>\n",
              "      <td>0</td>\n",
              "      <td>113931.57</td>\n",
              "      <td>1</td>\n",
              "    </tr>\n",
              "    <tr>\n",
              "      <th>3</th>\n",
              "      <td>4</td>\n",
              "      <td>15701354</td>\n",
              "      <td>Boni</td>\n",
              "      <td>699</td>\n",
              "      <td>France</td>\n",
              "      <td>0</td>\n",
              "      <td>21</td>\n",
              "      <td>1</td>\n",
              "      <td>0.00</td>\n",
              "      <td>2</td>\n",
              "      <td>0</td>\n",
              "      <td>0</td>\n",
              "      <td>93826.63</td>\n",
              "      <td>0</td>\n",
              "    </tr>\n",
              "    <tr>\n",
              "      <th>4</th>\n",
              "      <td>5</td>\n",
              "      <td>15737888</td>\n",
              "      <td>Mitchell</td>\n",
              "      <td>850</td>\n",
              "      <td>Spain</td>\n",
              "      <td>0</td>\n",
              "      <td>25</td>\n",
              "      <td>2</td>\n",
              "      <td>125510.82</td>\n",
              "      <td>1</td>\n",
              "      <td>1</td>\n",
              "      <td>1</td>\n",
              "      <td>79084.10</td>\n",
              "      <td>0</td>\n",
              "    </tr>\n",
              "  </tbody>\n",
              "</table>\n",
              "</div>\n",
              "      <button class=\"colab-df-convert\" onclick=\"convertToInteractive('df-3fa54fc0-7484-4bf1-b45f-3ff51054b3ce')\"\n",
              "              title=\"Convert this dataframe to an interactive table.\"\n",
              "              style=\"display:none;\">\n",
              "        \n",
              "  <svg xmlns=\"http://www.w3.org/2000/svg\" height=\"24px\"viewBox=\"0 0 24 24\"\n",
              "       width=\"24px\">\n",
              "    <path d=\"M0 0h24v24H0V0z\" fill=\"none\"/>\n",
              "    <path d=\"M18.56 5.44l.94 2.06.94-2.06 2.06-.94-2.06-.94-.94-2.06-.94 2.06-2.06.94zm-11 1L8.5 8.5l.94-2.06 2.06-.94-2.06-.94L8.5 2.5l-.94 2.06-2.06.94zm10 10l.94 2.06.94-2.06 2.06-.94-2.06-.94-.94-2.06-.94 2.06-2.06.94z\"/><path d=\"M17.41 7.96l-1.37-1.37c-.4-.4-.92-.59-1.43-.59-.52 0-1.04.2-1.43.59L10.3 9.45l-7.72 7.72c-.78.78-.78 2.05 0 2.83L4 21.41c.39.39.9.59 1.41.59.51 0 1.02-.2 1.41-.59l7.78-7.78 2.81-2.81c.8-.78.8-2.07 0-2.86zM5.41 20L4 18.59l7.72-7.72 1.47 1.35L5.41 20z\"/>\n",
              "  </svg>\n",
              "      </button>\n",
              "      \n",
              "  <style>\n",
              "    .colab-df-container {\n",
              "      display:flex;\n",
              "      flex-wrap:wrap;\n",
              "      gap: 12px;\n",
              "    }\n",
              "\n",
              "    .colab-df-convert {\n",
              "      background-color: #E8F0FE;\n",
              "      border: none;\n",
              "      border-radius: 50%;\n",
              "      cursor: pointer;\n",
              "      display: none;\n",
              "      fill: #1967D2;\n",
              "      height: 32px;\n",
              "      padding: 0 0 0 0;\n",
              "      width: 32px;\n",
              "    }\n",
              "\n",
              "    .colab-df-convert:hover {\n",
              "      background-color: #E2EBFA;\n",
              "      box-shadow: 0px 1px 2px rgba(60, 64, 67, 0.3), 0px 1px 3px 1px rgba(60, 64, 67, 0.15);\n",
              "      fill: #174EA6;\n",
              "    }\n",
              "\n",
              "    [theme=dark] .colab-df-convert {\n",
              "      background-color: #3B4455;\n",
              "      fill: #D2E3FC;\n",
              "    }\n",
              "\n",
              "    [theme=dark] .colab-df-convert:hover {\n",
              "      background-color: #434B5C;\n",
              "      box-shadow: 0px 1px 3px 1px rgba(0, 0, 0, 0.15);\n",
              "      filter: drop-shadow(0px 1px 2px rgba(0, 0, 0, 0.3));\n",
              "      fill: #FFFFFF;\n",
              "    }\n",
              "  </style>\n",
              "\n",
              "      <script>\n",
              "        const buttonEl =\n",
              "          document.querySelector('#df-3fa54fc0-7484-4bf1-b45f-3ff51054b3ce button.colab-df-convert');\n",
              "        buttonEl.style.display =\n",
              "          google.colab.kernel.accessAllowed ? 'block' : 'none';\n",
              "\n",
              "        async function convertToInteractive(key) {\n",
              "          const element = document.querySelector('#df-3fa54fc0-7484-4bf1-b45f-3ff51054b3ce');\n",
              "          const dataTable =\n",
              "            await google.colab.kernel.invokeFunction('convertToInteractive',\n",
              "                                                     [key], {});\n",
              "          if (!dataTable) return;\n",
              "\n",
              "          const docLinkHtml = 'Like what you see? Visit the ' +\n",
              "            '<a target=\"_blank\" href=https://colab.research.google.com/notebooks/data_table.ipynb>data table notebook</a>'\n",
              "            + ' to learn more about interactive tables.';\n",
              "          element.innerHTML = '';\n",
              "          dataTable['output_type'] = 'display_data';\n",
              "          await google.colab.output.renderOutput(dataTable, element);\n",
              "          const docLink = document.createElement('div');\n",
              "          docLink.innerHTML = docLinkHtml;\n",
              "          element.appendChild(docLink);\n",
              "        }\n",
              "      </script>\n",
              "    </div>\n",
              "  </div>\n",
              "  "
            ],
            "text/plain": [
              "   RowNumber  CustomerId   Surname  CreditScore Geography  Gender  Age  \\\n",
              "0          1    15634602  Hargrave          619    France       0   24   \n",
              "1          2    15647311      Hill          608     Spain       0   23   \n",
              "2          3    15619304      Onio          502    France       0   24   \n",
              "3          4    15701354      Boni          699    France       0   21   \n",
              "4          5    15737888  Mitchell          850     Spain       0   25   \n",
              "\n",
              "   Tenure    Balance  NumOfProducts  HasCrCard  IsActiveMember  \\\n",
              "0       2       0.00              1          1               1   \n",
              "1       1   83807.86              1          0               1   \n",
              "2       8  159660.80              3          1               0   \n",
              "3       1       0.00              2          0               0   \n",
              "4       2  125510.82              1          1               1   \n",
              "\n",
              "   EstimatedSalary  Exited  \n",
              "0        101348.88       1  \n",
              "1        112542.58       0  \n",
              "2        113931.57       1  \n",
              "3         93826.63       0  \n",
              "4         79084.10       0  "
            ]
          },
          "execution_count": 53,
          "metadata": {},
          "output_type": "execute_result"
        }
      ],
      "source": [
        "data.head()"
      ]
    },
    {
      "cell_type": "code",
      "execution_count": null,
      "metadata": {
        "id": "_xupufsxBRQN"
      },
      "outputs": [],
      "source": [
        "x=data.iloc[:,0:19].values\n",
        "y=data.iloc[:,19:20].values"
      ]
    },
    {
      "cell_type": "code",
      "execution_count": null,
      "metadata": {
        "colab": {
          "base_uri": "https://localhost:8080/"
        },
        "id": "mYk-dkcRbUpk",
        "outputId": "013904f5-0330-4b2a-b8e6-7452ea2c908d"
      },
      "outputs": [
        {
          "data": {
            "text/plain": [
              "array([[1, 15634602, 'Hargrave', ..., 1, 101348.88, 1],\n",
              "       [2, 15647311, 'Hill', ..., 1, 112542.58, 0],\n",
              "       [3, 15619304, 'Onio', ..., 0, 113931.57, 1],\n",
              "       ...,\n",
              "       [9998, 15584532, 'Liu', ..., 1, 42085.58, 1],\n",
              "       [9999, 15682355, 'Sabbatini', ..., 0, 92888.52, 1],\n",
              "       [10000, 15628319, 'Walker', ..., 0, 38190.78, 0]], dtype=object)"
            ]
          },
          "execution_count": 57,
          "metadata": {},
          "output_type": "execute_result"
        }
      ],
      "source": [
        "x"
      ]
    },
    {
      "cell_type": "code",
      "execution_count": null,
      "metadata": {
        "colab": {
          "base_uri": "https://localhost:8080/"
        },
        "id": "VR0uAwRMbfbJ",
        "outputId": "050389b1-c1ed-440c-99b5-9163268ec3e5"
      },
      "outputs": [
        {
          "data": {
            "text/plain": [
              "array([], shape=(10000, 0), dtype=float64)"
            ]
          },
          "execution_count": 58,
          "metadata": {},
          "output_type": "execute_result"
        }
      ],
      "source": [
        "y"
      ]
    },
    {
      "cell_type": "code",
      "execution_count": null,
      "metadata": {
        "id": "fi1bM5q9dm5I"
      },
      "outputs": [],
      "source": [
        "from sklearn.preprocessing import OneHotEncoder\n",
        "\n",
        "one = OneHotEncoder()\n",
        "\n",
        "a= one.fit_transform(x[:,6:7]).toarray()\n",
        "\n",
        "b= one.fit_transform(x[:,7:8]).toarray() \n",
        "\n",
        "c= one.fit_transform(x[:,8:9]).toarray()\n",
        "\n",
        "d= one.fit_transform(x[:,9:10]).toarray()\n",
        "\n",
        "e= one.fit_transform(x[:,10:11]).toarray()\n",
        "\n",
        "f= one.fit_transform(x[:,11:12]).toarray()\n",
        "\n",
        "g= one.fit_transform(x[:,12:13]).toarray()\n",
        "\n",
        "h= one.fit_transform(x[:,13:14]).toarray()\n",
        "\n",
        "i= one.fit_transform(x[:,14:15]).toarray()\n",
        "\n",
        "j= one.fit_transform(x[:,16:17]).toarray() \n",
        "\n",
        "x= np.delete(x,[6,7,8,9,10,11,12,13,14,16],axis=1)\n",
        "\n",
        "x=np.concatenate((a,b,c,d,e,f,g,h,i,j,x),axis=1)"
      ]
    },
    {
      "cell_type": "code",
      "execution_count": null,
      "metadata": {
        "id": "PCdfJGY1cqL3"
      },
      "outputs": [],
      "source": [
        "from imblearn.over_sampling import SMOTE"
      ]
    },
    {
      "cell_type": "code",
      "execution_count": null,
      "metadata": {
        "id": "TfFSxaaLiTlV"
      },
      "outputs": [],
      "source": [
        "smt = SMOTE()\n",
        " \n",
        "x_resample, y_resample = smt.fit_resample(x,y)"
      ]
    },
    {
      "cell_type": "code",
      "execution_count": null,
      "metadata": {
        "colab": {
          "base_uri": "https://localhost:8080/",
          "height": 364
        },
        "id": "zLmLCr3akS4v",
        "outputId": "212fd435-4c83-4bab-a1be-ebde6cb25695"
      },
      "outputs": [
        {
          "data": {
            "text/html": [
              "\n",
              "  <div id=\"df-817dc583-b410-4a2c-bcdf-1a919ce87222\">\n",
              "    <div class=\"colab-df-container\">\n",
              "      <div>\n",
              "<style scoped>\n",
              "    .dataframe tbody tr th:only-of-type {\n",
              "        vertical-align: middle;\n",
              "    }\n",
              "\n",
              "    .dataframe tbody tr th {\n",
              "        vertical-align: top;\n",
              "    }\n",
              "\n",
              "    .dataframe thead th {\n",
              "        text-align: right;\n",
              "    }\n",
              "</style>\n",
              "<table border=\"1\" class=\"dataframe\">\n",
              "  <thead>\n",
              "    <tr style=\"text-align: right;\">\n",
              "      <th></th>\n",
              "      <th>RowNumber</th>\n",
              "      <th>CustomerId</th>\n",
              "      <th>CreditScore</th>\n",
              "      <th>Gender</th>\n",
              "      <th>Age</th>\n",
              "      <th>Tenure</th>\n",
              "      <th>Balance</th>\n",
              "      <th>NumOfProducts</th>\n",
              "      <th>HasCrCard</th>\n",
              "      <th>IsActiveMember</th>\n",
              "      <th>EstimatedSalary</th>\n",
              "      <th>Exited</th>\n",
              "    </tr>\n",
              "  </thead>\n",
              "  <tbody>\n",
              "    <tr>\n",
              "      <th>count</th>\n",
              "      <td>10000.00000</td>\n",
              "      <td>1.000000e+04</td>\n",
              "      <td>10000.000000</td>\n",
              "      <td>10000.000000</td>\n",
              "      <td>10000.000000</td>\n",
              "      <td>10000.000000</td>\n",
              "      <td>10000.000000</td>\n",
              "      <td>10000.000000</td>\n",
              "      <td>10000.00000</td>\n",
              "      <td>10000.000000</td>\n",
              "      <td>10000.000000</td>\n",
              "      <td>10000.000000</td>\n",
              "    </tr>\n",
              "    <tr>\n",
              "      <th>mean</th>\n",
              "      <td>5000.50000</td>\n",
              "      <td>1.569094e+07</td>\n",
              "      <td>650.528800</td>\n",
              "      <td>0.545700</td>\n",
              "      <td>20.920600</td>\n",
              "      <td>5.012800</td>\n",
              "      <td>76485.889288</td>\n",
              "      <td>1.530200</td>\n",
              "      <td>0.70550</td>\n",
              "      <td>0.515100</td>\n",
              "      <td>100090.239881</td>\n",
              "      <td>0.203700</td>\n",
              "    </tr>\n",
              "    <tr>\n",
              "      <th>std</th>\n",
              "      <td>2886.89568</td>\n",
              "      <td>7.193619e+04</td>\n",
              "      <td>96.653299</td>\n",
              "      <td>0.497932</td>\n",
              "      <td>10.482065</td>\n",
              "      <td>2.892174</td>\n",
              "      <td>62397.405202</td>\n",
              "      <td>0.581654</td>\n",
              "      <td>0.45584</td>\n",
              "      <td>0.499797</td>\n",
              "      <td>57510.492818</td>\n",
              "      <td>0.402769</td>\n",
              "    </tr>\n",
              "    <tr>\n",
              "      <th>min</th>\n",
              "      <td>1.00000</td>\n",
              "      <td>1.556570e+07</td>\n",
              "      <td>350.000000</td>\n",
              "      <td>0.000000</td>\n",
              "      <td>0.000000</td>\n",
              "      <td>0.000000</td>\n",
              "      <td>0.000000</td>\n",
              "      <td>1.000000</td>\n",
              "      <td>0.00000</td>\n",
              "      <td>0.000000</td>\n",
              "      <td>11.580000</td>\n",
              "      <td>0.000000</td>\n",
              "    </tr>\n",
              "    <tr>\n",
              "      <th>25%</th>\n",
              "      <td>2500.75000</td>\n",
              "      <td>1.562853e+07</td>\n",
              "      <td>584.000000</td>\n",
              "      <td>0.000000</td>\n",
              "      <td>14.000000</td>\n",
              "      <td>3.000000</td>\n",
              "      <td>0.000000</td>\n",
              "      <td>1.000000</td>\n",
              "      <td>0.00000</td>\n",
              "      <td>0.000000</td>\n",
              "      <td>51002.110000</td>\n",
              "      <td>0.000000</td>\n",
              "    </tr>\n",
              "    <tr>\n",
              "      <th>50%</th>\n",
              "      <td>5000.50000</td>\n",
              "      <td>1.569074e+07</td>\n",
              "      <td>652.000000</td>\n",
              "      <td>1.000000</td>\n",
              "      <td>19.000000</td>\n",
              "      <td>5.000000</td>\n",
              "      <td>97198.540000</td>\n",
              "      <td>1.000000</td>\n",
              "      <td>1.00000</td>\n",
              "      <td>1.000000</td>\n",
              "      <td>100193.915000</td>\n",
              "      <td>0.000000</td>\n",
              "    </tr>\n",
              "    <tr>\n",
              "      <th>75%</th>\n",
              "      <td>7500.25000</td>\n",
              "      <td>1.575323e+07</td>\n",
              "      <td>718.000000</td>\n",
              "      <td>1.000000</td>\n",
              "      <td>26.000000</td>\n",
              "      <td>7.000000</td>\n",
              "      <td>127644.240000</td>\n",
              "      <td>2.000000</td>\n",
              "      <td>1.00000</td>\n",
              "      <td>1.000000</td>\n",
              "      <td>149388.247500</td>\n",
              "      <td>0.000000</td>\n",
              "    </tr>\n",
              "    <tr>\n",
              "      <th>max</th>\n",
              "      <td>10000.00000</td>\n",
              "      <td>1.581569e+07</td>\n",
              "      <td>850.000000</td>\n",
              "      <td>1.000000</td>\n",
              "      <td>69.000000</td>\n",
              "      <td>10.000000</td>\n",
              "      <td>250898.090000</td>\n",
              "      <td>4.000000</td>\n",
              "      <td>1.00000</td>\n",
              "      <td>1.000000</td>\n",
              "      <td>199992.480000</td>\n",
              "      <td>1.000000</td>\n",
              "    </tr>\n",
              "  </tbody>\n",
              "</table>\n",
              "</div>\n",
              "      <button class=\"colab-df-convert\" onclick=\"convertToInteractive('df-817dc583-b410-4a2c-bcdf-1a919ce87222')\"\n",
              "              title=\"Convert this dataframe to an interactive table.\"\n",
              "              style=\"display:none;\">\n",
              "        \n",
              "  <svg xmlns=\"http://www.w3.org/2000/svg\" height=\"24px\"viewBox=\"0 0 24 24\"\n",
              "       width=\"24px\">\n",
              "    <path d=\"M0 0h24v24H0V0z\" fill=\"none\"/>\n",
              "    <path d=\"M18.56 5.44l.94 2.06.94-2.06 2.06-.94-2.06-.94-.94-2.06-.94 2.06-2.06.94zm-11 1L8.5 8.5l.94-2.06 2.06-.94-2.06-.94L8.5 2.5l-.94 2.06-2.06.94zm10 10l.94 2.06.94-2.06 2.06-.94-2.06-.94-.94-2.06-.94 2.06-2.06.94z\"/><path d=\"M17.41 7.96l-1.37-1.37c-.4-.4-.92-.59-1.43-.59-.52 0-1.04.2-1.43.59L10.3 9.45l-7.72 7.72c-.78.78-.78 2.05 0 2.83L4 21.41c.39.39.9.59 1.41.59.51 0 1.02-.2 1.41-.59l7.78-7.78 2.81-2.81c.8-.78.8-2.07 0-2.86zM5.41 20L4 18.59l7.72-7.72 1.47 1.35L5.41 20z\"/>\n",
              "  </svg>\n",
              "      </button>\n",
              "      \n",
              "  <style>\n",
              "    .colab-df-container {\n",
              "      display:flex;\n",
              "      flex-wrap:wrap;\n",
              "      gap: 12px;\n",
              "    }\n",
              "\n",
              "    .colab-df-convert {\n",
              "      background-color: #E8F0FE;\n",
              "      border: none;\n",
              "      border-radius: 50%;\n",
              "      cursor: pointer;\n",
              "      display: none;\n",
              "      fill: #1967D2;\n",
              "      height: 32px;\n",
              "      padding: 0 0 0 0;\n",
              "      width: 32px;\n",
              "    }\n",
              "\n",
              "    .colab-df-convert:hover {\n",
              "      background-color: #E2EBFA;\n",
              "      box-shadow: 0px 1px 2px rgba(60, 64, 67, 0.3), 0px 1px 3px 1px rgba(60, 64, 67, 0.15);\n",
              "      fill: #174EA6;\n",
              "    }\n",
              "\n",
              "    [theme=dark] .colab-df-convert {\n",
              "      background-color: #3B4455;\n",
              "      fill: #D2E3FC;\n",
              "    }\n",
              "\n",
              "    [theme=dark] .colab-df-convert:hover {\n",
              "      background-color: #434B5C;\n",
              "      box-shadow: 0px 1px 3px 1px rgba(0, 0, 0, 0.15);\n",
              "      filter: drop-shadow(0px 1px 2px rgba(0, 0, 0, 0.3));\n",
              "      fill: #FFFFFF;\n",
              "    }\n",
              "  </style>\n",
              "\n",
              "      <script>\n",
              "        const buttonEl =\n",
              "          document.querySelector('#df-817dc583-b410-4a2c-bcdf-1a919ce87222 button.colab-df-convert');\n",
              "        buttonEl.style.display =\n",
              "          google.colab.kernel.accessAllowed ? 'block' : 'none';\n",
              "\n",
              "        async function convertToInteractive(key) {\n",
              "          const element = document.querySelector('#df-817dc583-b410-4a2c-bcdf-1a919ce87222');\n",
              "          const dataTable =\n",
              "            await google.colab.kernel.invokeFunction('convertToInteractive',\n",
              "                                                     [key], {});\n",
              "          if (!dataTable) return;\n",
              "\n",
              "          const docLinkHtml = 'Like what you see? Visit the ' +\n",
              "            '<a target=\"_blank\" href=https://colab.research.google.com/notebooks/data_table.ipynb>data table notebook</a>'\n",
              "            + ' to learn more about interactive tables.';\n",
              "          element.innerHTML = '';\n",
              "          dataTable['output_type'] = 'display_data';\n",
              "          await google.colab.output.renderOutput(dataTable, element);\n",
              "          const docLink = document.createElement('div');\n",
              "          docLink.innerHTML = docLinkHtml;\n",
              "          element.appendChild(docLink);\n",
              "        }\n",
              "      </script>\n",
              "    </div>\n",
              "  </div>\n",
              "  "
            ],
            "text/plain": [
              "         RowNumber    CustomerId   CreditScore        Gender           Age  \\\n",
              "count  10000.00000  1.000000e+04  10000.000000  10000.000000  10000.000000   \n",
              "mean    5000.50000  1.569094e+07    650.528800      0.545700     20.920600   \n",
              "std     2886.89568  7.193619e+04     96.653299      0.497932     10.482065   \n",
              "min        1.00000  1.556570e+07    350.000000      0.000000      0.000000   \n",
              "25%     2500.75000  1.562853e+07    584.000000      0.000000     14.000000   \n",
              "50%     5000.50000  1.569074e+07    652.000000      1.000000     19.000000   \n",
              "75%     7500.25000  1.575323e+07    718.000000      1.000000     26.000000   \n",
              "max    10000.00000  1.581569e+07    850.000000      1.000000     69.000000   \n",
              "\n",
              "             Tenure        Balance  NumOfProducts    HasCrCard  \\\n",
              "count  10000.000000   10000.000000   10000.000000  10000.00000   \n",
              "mean       5.012800   76485.889288       1.530200      0.70550   \n",
              "std        2.892174   62397.405202       0.581654      0.45584   \n",
              "min        0.000000       0.000000       1.000000      0.00000   \n",
              "25%        3.000000       0.000000       1.000000      0.00000   \n",
              "50%        5.000000   97198.540000       1.000000      1.00000   \n",
              "75%        7.000000  127644.240000       2.000000      1.00000   \n",
              "max       10.000000  250898.090000       4.000000      1.00000   \n",
              "\n",
              "       IsActiveMember  EstimatedSalary        Exited  \n",
              "count    10000.000000     10000.000000  10000.000000  \n",
              "mean         0.515100    100090.239881      0.203700  \n",
              "std          0.499797     57510.492818      0.402769  \n",
              "min          0.000000        11.580000      0.000000  \n",
              "25%          0.000000     51002.110000      0.000000  \n",
              "50%          1.000000    100193.915000      0.000000  \n",
              "75%          1.000000    149388.247500      0.000000  \n",
              "max          1.000000    199992.480000      1.000000  "
            ]
          },
          "execution_count": 127,
          "metadata": {},
          "output_type": "execute_result"
        }
      ],
      "source": [
        "data.describe()"
      ]
    },
    {
      "cell_type": "markdown",
      "source": [
        "**Logistic Regression Model**"
      ],
      "metadata": {
        "id": "kzanRDRKCgvl"
      }
    },
    {
      "cell_type": "code",
      "execution_count": null,
      "metadata": {
        "id": "hn2pCnPGmSoC"
      },
      "outputs": [],
      "source": [
        "#importing and building the Decision tree model\n",
        "\n",
        "def logreg(x_train,x_test,y_train,y_test): \n",
        "    lr = LogisticRegression(random_state=0)\n",
        "    lr.fit(x_train,y_train)\n",
        "    y_lr_tr = lr.predict(x_train) \n",
        "    print(accuracy_score (y_lr_tr,y_train))\n",
        "    yPred_Ir-lr.predict(x_test) \n",
        "    print(accuracy_score (yPred_lr,y_test))\n",
        "    print(\"*Logistic Regression*\") \n",
        "    print(\"Confusion_Matrix\")\n",
        "    print(confusion_matrix(y_test,yPred_1r))\n",
        "    print(\"Classification Report\")\n",
        "    print(classification_report (y_test,yPred_1r))"
      ]
    },
    {
      "cell_type": "code",
      "execution_count": null,
      "metadata": {
        "id": "NlHNZBhpEHAC"
      },
      "outputs": [],
      "source": [
        "#printing the train accuracy and test accuracy respectively \n",
        "logreg(x_train,x_test,y_train,y_test)"
      ]
    },
    {
      "cell_type": "code",
      "source": [
        "0.8570910848030925\n",
        "0.7913043478260869\n",
        "**LogisticRegression**\n",
        "Confusion Matrix\n",
        " [[730 303]\n",
        "   [129 908]]\n",
        "Classification Report\n",
        "                   precision       recall    f1-score       support\n",
        "  \n",
        "              0       0.85         0.71          0.77          1033\n",
        "              1       0.75         0.88          0.81          1037\n",
        "              \n",
        "     accuracy                                    0.79          2070\n",
        "    macro avg         0.80         0.79          0.79          2070\n",
        " weighted avg         0.80         0.79          0.79          2070"
      ],
      "metadata": {
        "id": "muClm2N7Aj-O"
      },
      "execution_count": null,
      "outputs": []
    },
    {
      "cell_type": "markdown",
      "source": [
        "**Decision tree model**"
      ],
      "metadata": {
        "id": "qkDom6dEJL_0"
      }
    },
    {
      "cell_type": "code",
      "execution_count": null,
      "metadata": {
        "id": "eSGxydQpI35Y"
      },
      "outputs": [],
      "source": [
        "\n",
        "#importing and building the Decision tree model \n",
        "def decisionTree(x_train,x_test,y_train,y_test):\n",
        "    dtc = DecisionTreeclassifier(criterion=\"entropy\",random_state=0)\n",
        "    dtc.fit(x_train, y_train)\n",
        "    y_dt_tr = dtc.predict(x_train)\n",
        "    print(accuracy_score (y_dt_tr,y_train)) \n",
        "    yPred_dt = dtc.predict(x_test) \n",
        "    print(accuracy_score (yPred_dt,y_test))\n",
        "    print(\"**Decision Tree**\") \n",
        "    print(\"Confusion_Matrix\")\n",
        "    print(confusion_matrix(y_test,yPred_dt)) \n",
        "    print(\"classification Report\")\n",
        "    print(classification_report(y_test,yPred_dt))"
      ]
    },
    {
      "cell_type": "code",
      "execution_count": null,
      "metadata": {
        "id": "sA3HDt17MY5I"
      },
      "outputs": [],
      "source": [
        "decisionTree(x_train,x_test,y_train,y_test)"
      ]
    },
    {
      "cell_type": "code",
      "source": [
        "0.8570910848030925\n",
        "0.7913043478260869\n",
        "**Decision Tree**\n",
        "Confusion Matrix\n",
        " [[730 303]\n",
        "   [129 908]]\n",
        "Classification Report\n",
        "                   precision       recall    f1-score       support\n",
        "  \n",
        "              0       0.85         0.71          0.77          1033\n",
        "              1       0.75         0.88          0.81          1037\n",
        "              \n",
        "     accuracy                                    0.79          2070\n",
        "    macro avg         0.80         0.79          0.79          2070\n",
        " weighted avg         0.80         0.79          0.79          2070"
      ],
      "metadata": {
        "id": "o__Iyd6lEqcN"
      },
      "execution_count": null,
      "outputs": []
    },
    {
      "cell_type": "markdown",
      "source": [
        "**Random forest model**"
      ],
      "metadata": {
        "id": "YRuJinGeJH1Y"
      }
    },
    {
      "cell_type": "code",
      "execution_count": null,
      "metadata": {
        "id": "5tf5J1NkOBOF"
      },
      "outputs": [],
      "source": [
        "#importing and building the random forest model \n",
        "def RandomForest (x_tarin, x_test,y_train,y_test):\n",
        "\n",
        "    rf = RandomForestClassifier(criterion=\"entropy\",n_estimators=10, random_state=0)\n",
        "\n",
        "    rf.fit(x_train,y_train)\n",
        "\n",
        "    y_rf_tr = rf.predict(x_train)\n",
        "\n",
        "    print(accuracy_score (y_rf_tr,y_train))\n",
        "\n",
        "    ypred_rf = rf.predict(x_test)\n",
        "\n",
        "    print(accuracy_score(yPred_rf,y_test))\n",
        "\n",
        "    print(\"**Random Forest**\")\n",
        "\n",
        "    print(\"Confusion Matrix\")\n",
        "\n",
        "    print(confusion_matrix(y_test,yPred_rf))\n",
        "\n",
        "    print(\"Classification Report\")\n",
        "\n",
        "    print(classification_report(y_test,yPred_rf))\n",
        "\n"
      ]
    },
    {
      "cell_type": "code",
      "execution_count": null,
      "metadata": {
        "id": "OzuRwWgUPdOL"
      },
      "outputs": [],
      "source": [
        "#printing the train accuracy and test accuracy respectively\n",
        "RandomForest(x_train,x_test,y_train,y_test)"
      ]
    },
    {
      "cell_type": "code",
      "source": [
        "0.8570910848030925\n",
        "0.7913043478260869\n",
        "**Random Forest**\n",
        "Confusion Matrix\n",
        " [[730 303]\n",
        "   [129 908]]\n",
        "Classification Report\n",
        "                   precision       recall    f1-score       support\n",
        "  \n",
        "              0       0.85         0.71          0.77          1033\n",
        "              1       0.75         0.88          0.81          1037\n",
        "              \n",
        "     accuracy                                    0.79          2070\n",
        "    macro avg         0.80         0.79          0.79          2070\n",
        " weighted avg         0.80         0.79          0.79          2070"
      ],
      "metadata": {
        "id": "5EyjWuP4DDw6"
      },
      "execution_count": null,
      "outputs": []
    },
    {
      "cell_type": "markdown",
      "source": [
        "**KNN model**"
      ],
      "metadata": {
        "id": "vLv73FR1I-1S"
      }
    },
    {
      "cell_type": "code",
      "execution_count": null,
      "metadata": {
        "id": "y1mU-4IzRPPc"
      },
      "outputs": [],
      "source": [
        "#importing and building the KNN model\n",
        "\n",
        "def KNN(x_train,x_test,y_train,y_test):\n",
        "    knn = KNeighborsClassifier() \n",
        "    knn.fit(x_train,y_train) \n",
        "    y_knn_tr  = knn.predict(x_train) \n",
        "    print(accuracy_score(y_knn_tr,y_train)) \n",
        "    yPred_knn = knn.predict(x_test) \n",
        "    print(accuracy_score (yPred_knn,y_test)) \n",
        "    print(\"**KNN**\") \n",
        "    print(confusion_matrix(y_test,yPred_knn))\n",
        "    print(\"Confusion_Matrix\")\n",
        "    print(\"Classification Report\") \n",
        "    print(classification_report(y_test,yPred_knn))"
      ]
    },
    {
      "cell_type": "code",
      "execution_count": null,
      "metadata": {
        "colab": {
          "background_save": true
        },
        "id": "x6dL9J0DUflg"
      },
      "outputs": [],
      "source": [
        "#printing the train accuracy and test accuracy respectively\n",
        "RandomForest(x_train,x_test,y_train,y_test)"
      ]
    },
    {
      "cell_type": "code",
      "source": [
        "0.8570910848030925\n",
        "0.7913043478260869\n",
        "**KNN**\n",
        "Confusion Matrix\n",
        " [[730 303]\n",
        "   [129 908]]\n",
        "Classification Report\n",
        "                   precision       recall    f1-score       support\n",
        "  \n",
        "              0       0.85         0.71          0.77          1033\n",
        "              1       0.75         0.88          0.81          1037\n",
        "              \n",
        "     accuracy                                    0.79          2070\n",
        "    macro avg         0.80         0.79          0.79          2070\n",
        " weighted avg         0.80         0.79          0.79          2070"
      ],
      "metadata": {
        "id": "K0ocfr_aApe1"
      },
      "execution_count": null,
      "outputs": []
    },
    {
      "cell_type": "code",
      "source": [
        "# Importing the Keras libraries and packages\n",
        "      import keras \n",
        "     from keras.models import Sequential \n",
        "     from keras.layers import Dense"
      ],
      "metadata": {
        "id": "c-LKMMN_X8Mx"
      },
      "execution_count": null,
      "outputs": []
    },
    {
      "cell_type": "code",
      "source": [
        " # Initialising the ANN \n",
        "     classifier = Sequential()"
      ],
      "metadata": {
        "id": "wnMe4oMAY-sv"
      },
      "execution_count": null,
      "outputs": []
    },
    {
      "cell_type": "code",
      "source": [
        "# Adding the input layer and the first hidden layer \n",
        "     classifier.add(Dense (units=30, activation='relu', input_dim=40))"
      ],
      "metadata": {
        "id": "W088Ab-nZBEm"
      },
      "execution_count": null,
      "outputs": []
    },
    {
      "cell_type": "code",
      "source": [
        "# Adding the second hidden layer\n",
        "     classifier.add(Dense (units=30, activation='relu'))"
      ],
      "metadata": {
        "id": "iZyZzAZZZChb"
      },
      "execution_count": null,
      "outputs": []
    },
    {
      "cell_type": "code",
      "source": [
        "\n",
        "# Adding the output layer\n",
        "     classifier.add(Dense (units=1, activation=\"sigmoid'))"
      ],
      "metadata": {
        "id": "HbdlNiycZQ--"
      },
      "execution_count": null,
      "outputs": []
    },
    {
      "cell_type": "code",
      "source": [
        "# Compiling the ANN\n",
        "     classifier.compile(optimizer='adam', loss='binary_crossentropy', metrics=['accuracy'])"
      ],
      "metadata": {
        "id": "iG-xYwZwZbLe"
      },
      "execution_count": null,
      "outputs": []
    },
    {
      "cell_type": "code",
      "source": [
        "# Fitting the ANN to the Training set\n",
        "\n",
        "model_history = classifier.fit(x_train, y_train, batch_size=10, validation_split=0.33, epochs=200)"
      ],
      "metadata": {
        "id": "Cd77wYM0ZmPS"
      },
      "execution_count": null,
      "outputs": []
    },
    {
      "cell_type": "code",
      "source": [
        "Epoch 1/200\n",
        "555/555 [=== =========================== ==]-4s 3ms/step-loss: 0.5017-accuracy: 0.7494- val_loss: 0.4688-val_accuracy: 0.775\n",
        "Epoch 2/200\n",
        "555/555 [=== =========================== ==]-2s 3ms/step-loss: 0.3885-accuracy: 0.8589- val_loss: 0.2829-val_accuracy: 0.778\n",
        "Epoch 3/200\n",
        "555/555 [=== =========================== ==]-1s 3ms/step-loss: 0.4996-accuracy: 0.6906- val_loss: 0.2994-val_accuracy: 0.797\n",
        "Epoch 4/200\n",
        "555/555 [=== =========================== ==]-1s 2ms/step-loss: 0.9078-accuracy: 0.5959- val_loss: 0.8002-val_accuracy: 0.757\n",
        "Epoch 5/200\n",
        "555/555 [=== =========================== ==]-1s 2ms/step-loss: 0.2445-accuracy: 0.4858- val_loss: 0.3425-val_accuracy: 0.734\n",
        "Epoch 6/200\n",
        "555/555 [=== =========================== ==]-1s 3ms/step-loss: 0.3678-accuracy: 0.2902- val_loss: 0.7680-val_accuracy: 0.724\n",
        "Epoch 7/200\n",
        "555/555 [=== =========================== ==]-1s 2ms/step-loss: 0.6989-accuracy: 0.3682- val_loss: 0.2445-val_accuracy: 0.765\n",
        "Epoch 8/200\n",
        "555/555 [=== =========================== ==]-1s 3ms/step-loss: 0.7800-accuracy: 0.7494- val_loss: 0.9600-val_accuracy: 0.706\n"
      ],
      "metadata": {
        "id": "_kVE8lHdFEBz"
      },
      "execution_count": null,
      "outputs": []
    },
    {
      "cell_type": "code",
      "source": [
        "# testing on random input values\n",
        "\n",
        "lr LogisticRegression (random_state=0)\n",
        "\n",
        "lr.fit(x_train,y_train)\n",
        "\n",
        "print(\"Predicting on random input\")\n",
        "\n",
        "lr_pred_own = lr.predict(sc.transform([[0,0,1,1,0,0,0, 1,0,0,1,6 ,1,0,0,1,1,0,0,456,1,0,3245,4567]]))\n",
        "\n",
        "print(\"output is: \",lr_pred_own)"
      ],
      "metadata": {
        "id": "TRtib2AMaDfp"
      },
      "execution_count": null,
      "outputs": []
    },
    {
      "cell_type": "code",
      "source": [
        "Predicting on random input\n",
        "\n",
        "output is: [0]"
      ],
      "metadata": {
        "id": "AoBzQgDaa7O0"
      },
      "execution_count": null,
      "outputs": []
    },
    {
      "cell_type": "code",
      "source": [
        "#testing on random input values\n",
        "\n",
        "dtc = DecisionTreeClassifier (criterion=\"entropy\", random_state=0)\n",
        "\n",
        "dtc.fit(x_train,y_train)\n",
        "\n",
        "print(\"Predicting on random input\")\n",
        "\n",
        "dtc_pred_own = dtc.predict(sc.transform([[0,0,1,1,0,0,0,0,1,0,0,1,0,0,1,0,0,1,0, ,0,1,0,0,1,1,0,0,456,1,0,3245,4567]]))\n",
        "\n",
        "print(\"output is: \",dtc_pred_own)"
      ],
      "metadata": {
        "id": "2UHlexa1bMvX"
      },
      "execution_count": null,
      "outputs": []
    },
    {
      "cell_type": "code",
      "source": [
        "Predicting on random input\n",
        "\n",
        "output is: [0]"
      ],
      "metadata": {
        "id": "TpECIinabNzr"
      },
      "execution_count": null,
      "outputs": []
    },
    {
      "cell_type": "code",
      "source": [
        "#testing on random input values\n",
        "\n",
        "rf = RandomForestClassifier(criterion=\"entropy\",n_estimators=10, random_state=0)\n",
        "\n",
        "rf.fit(x_train,y_train)\n",
        "\n",
        "print(\"Predicting on random input\")\n",
        "\n",
        "rf_pred_own = rf.predict(sc.transform([[0,0,1,1,0,0,0,0,1,0,0,1,0,0,1,0,0,1,0,0,1,0,0,1,0,0,1,0,1,0,0,1,1,0,0,456,1,0,3245,4567]]))\n",
        "\n",
        "print(\"output is: \",rf_pred_own)"
      ],
      "metadata": {
        "id": "ULT_SprObm9_"
      },
      "execution_count": null,
      "outputs": []
    },
    {
      "cell_type": "code",
      "source": [
        "Predicting on random input\n",
        "\n",
        "output is: [0]"
      ],
      "metadata": {
        "id": "L_y6We0fb1MM"
      },
      "execution_count": null,
      "outputs": []
    },
    {
      "cell_type": "code",
      "source": [
        "#testing on random input values\n",
        "\n",
        "Svc = SVC (kernel = \"linear\") svc.fit(x_train,y_train)\n",
        "\n",
        "print(\"Predicting on random input\")\n",
        "\n",
        "svm_pred_own = Svc.predict(sc.transform([[0,0,1,1,0,0,0,0,1,0,0,1,0,0,1,0,0,1,0,0,1,0,0,1,0,0,1,0,1,0,0,1,1,0,0,456,1,0,3245,4567]]))\n",
        "\n",
        "print(\"output is: \", svm_pred_own)"
      ],
      "metadata": {
        "id": "FvsCCdOKb-yh"
      },
      "execution_count": null,
      "outputs": []
    },
    {
      "cell_type": "code",
      "source": [
        "Predicting on random input\n",
        "\n",
        "output is: [0]"
      ],
      "metadata": {
        "id": "5IfGUIWRcGxb"
      },
      "execution_count": null,
      "outputs": []
    },
    {
      "cell_type": "code",
      "source": [
        "\n",
        "#testing on random input values\n",
        "\n",
        "knn = KNeighborsClassifier()\n",
        "\n",
        "knn.fit(x_train,y_train)\n",
        "\n",
        "print(\"Predicting on random input\")\n",
        "\n",
        "knn_pred_own = knn.predict(sc.transform([[0,0,1,1,0,0,0,0,1,0,0,1,0,0,1,0,0,1,0,0,1,0,0,1,0,0,1,0,1,0,0,1,1,0,0,456,1,0,3245,4567]]))\n",
        "\n",
        "print(\"output is: \", knn_pred_own)\n"
      ],
      "metadata": {
        "id": "Y2CaVg3scKRd"
      },
      "execution_count": null,
      "outputs": []
    },
    {
      "cell_type": "code",
      "source": [
        "Predicting on random input\n",
        "\n",
        "output is: [0]"
      ],
      "metadata": {
        "id": "gaAvqI3UcL_Q"
      },
      "execution_count": null,
      "outputs": []
    },
    {
      "cell_type": "code",
      "source": [
        "#testing on random input values\n",
        "\n",
        "print(\"Predicting on random input\")\n",
        "\n",
        "ann_pred_own = classifier.predict(sc. transform([[0,0,1,1,0,0,0,0,1,0,0,1,0,0,1,0,0,1,0,0,1,0,0,1,0,0,1,0,1,0,0,1,1,0,0,456,1,0,3245,4567]]))\n",
        "\n",
        "print (ann_pred_own)\n",
        "\n",
        "ann_pred_own = (ann_pred_own>0.5)\n",
        "\n",
        "print(\"output is: \",ann_pred_own)\n",
        "\n",
        "Predicting on random input\n",
        "\n",
        "1/1 [=== Os 24ms/step\n",
        "\n",
        "[[1-]]\n",
        "\n"
      ],
      "metadata": {
        "id": "eLW_GKJkc1ls"
      },
      "execution_count": null,
      "outputs": []
    },
    {
      "cell_type": "code",
      "source": [
        "output is:\n",
        "\n",
        "[[ True]]"
      ],
      "metadata": {
        "id": "VeAu5mLXfSov"
      },
      "execution_count": null,
      "outputs": []
    },
    {
      "cell_type": "code",
      "source": [
        "def compareModel (X_train,X_test,y_train,y_test):\n",
        "    logreg(x_train,x_test,y_train,y_test)\n",
        "    print('-'*100)\n",
        "    decisionTree(X_train,x_test,y_train,y_test) \n",
        "    print('-'*100)\n",
        "    RandomForest(x_train,x_test,y_train,y_test) \n",
        "    print('-'*100)\n",
        "    svm(X_train,X_test,y_train,y_test) \n",
        "    print('-'*100)\n",
        "    KNN(X_train,X_test,y_train,y_test) \n",
        "    print('-**100)"
      ],
      "metadata": {
        "id": "R1H8OV_GfjDC"
      },
      "execution_count": null,
      "outputs": []
    },
    {
      "cell_type": "code",
      "source": [
        "y_rf model.predict(x_train)\n",
        "\n",
        "print(accuracy_score (y_rf,y_train))\n",
        "\n",
        "yPred rfcv model.predict(x_test)\n",
        "\n",
        "print(accuracy_score (yPred_rfcv,y_test))\n",
        "\n",
        "print(\"**Random Forest after Hyperparameter tuning**\"\n",
        "\n",
        "print(\"Confusion_Matrix\") print(confusion_matrix(y_test,yPred_rfcv))\n",
        "\n",
        "print(\"classification Report\")\n",
        "\n",
        "print(classification_report(y_test,yPred_rfcv))\n",
        "\n",
        "print(\"Predicting on random input\")\n",
        "\n",
        "rfcv_pred_own = model.predict(sc.transform([[0,0,1,1,0,0,0,0,1,0,0,1,0,0,1,0,0,1,0,0,1,0,0,1,0,0,1,0,1,0,0,1,1,0,0,456,1,0,3245,4567]])\n",
        "\n",
        "print(\"output is: \",rfcv_pred_own)"
      ],
      "metadata": {
        "id": "nnUZQA_9lVrp"
      },
      "execution_count": null,
      "outputs": []
    },
    {
      "cell_type": "markdown",
      "source": [
        "**Model Deployment**"
      ],
      "metadata": {
        "id": "oi1BOGdgzHqV"
      }
    },
    {
      "cell_type": "code",
      "source": [
        "classifier.save(\"telcom_churn.h5\")"
      ],
      "metadata": {
        "id": "aa5AtVIfl78R"
      },
      "execution_count": null,
      "outputs": []
    },
    {
      "cell_type": "code",
      "source": [
        "from flask import Flask, render_template, request \n",
        "import keras \n",
        "from keras.models import load_model"
      ],
      "metadata": {
        "id": "XbgZIw2QlVb6"
      },
      "execution_count": null,
      "outputs": []
    },
    {
      "cell_type": "code",
      "source": [
        "app = Flask()\n",
        "\n",
        "model = load_model(\"telcom_churn.h5\")"
      ],
      "metadata": {
        "id": "s9z996CElU_6"
      },
      "execution_count": null,
      "outputs": []
    },
    {
      "cell_type": "code",
      "source": [
        "@app.route('/') def helloworld():\n",
        "\n",
        "return render_template(\"base.html\")\n",
        "\n",
        "@app.route('/assesment')\n",
        "\n",
        "def prediction(): return render_template(\"index.html\")\n",
        "\n",
        "@app.route('/predict', methods - def admin():\n",
        "\n",
        "a= request.form[\"gender\"] \n",
        "if (a == 'f'):\n",
        "     a=0\n",
        "if (a =='m'):\n",
        "    a=1 \n",
        "b= request.form[\"srcitizen\"]\n",
        "if (b == 'n'):\n",
        "     b=0 \n",
        "if (b == 'y'):\n",
        "     b=1 \n",
        "c= request.form[\"partner\"] if (c'n'):\n",
        "     c=0\n",
        "if (c =='y'): \n",
        "     c=1\n",
        "d= request.form[\"dependents\"] \n",
        "   if (d == 'n'):\n",
        "     d=0\n",
        "if (d == 'y'):\n",
        "     d=1\n",
        "e= request.form[\"tenure\"]\n",
        "f= request.form[\"phservices\"]\n",
        "if (f == 'n'):\n",
        "  f=0\n",
        "if (f == y'): \n",
        "  f=1\n",
        "g= request.form[\"multi\"] \n",
        "if (g = 'nps'):\n",
        "    g1,g2,g3 = 0,1,0\n",
        "if (g == 'y'):\n",
        "    g1,g2,g3-0,0,1 \n",
        "h= request.form[\"is\"]\n",
        "if (h-- 'dsl'):\n",
        "   h1, h2, h3=1,0,0\n",
        "if (h == 'fo'): \n",
        "   h1, h2, h3=0,1,0\n",
        "if (h == 'n'):\n",
        "   h1, h2, h3=0,0,1\n",
        "i= request.form[\"os\"] \n",
        "if (i == 'n'):\n",
        "   i1,i2,i3=1,0,0 \n",
        "if (i == 'nis'):\n",
        "   i1,i2,i3=0,1,0\n",
        "j = request.form[\"ob\"]\n",
        "if (j == 'n'):\n",
        "j1,j2,j3 = 1,0,0 \n",
        "if (j == 'nis'):\n",
        "j1, j2, j3 = 0,1,0 \n",
        "if (j -- 'y'):\n",
        "j1,j2,j=0,0,1\n",
        "k- request.form[\"dp\"]\n",
        "if (k == 'n'): \n",
        "k1,k2,k3=1,0,0 \n",
        "if (k == 'nis'): \n",
        "k1,k2, k3=0,1,0 \n",
        "if (k == 'y'):\n",
        "k1,k2, k3 = 0,0,1\n",
        "l = request.form[\"ts\"]\n",
        "if (l == 'n'):\n",
        "l1,l2,l3=1,0,0"
      ],
      "metadata": {
        "id": "58PjW5wQnG2g"
      },
      "execution_count": null,
      "outputs": []
    },
    {
      "cell_type": "markdown",
      "source": [
        "**Bulid Python code**"
      ],
      "metadata": {
        "id": "Ics0Du6uyyQi"
      }
    },
    {
      "cell_type": "code",
      "source": [
        "q= request.form[\"plb\"]\n",
        "\n",
        "if (q 'n'): ==\n",
        "\n",
        "q=0\n",
        "\n",
        "if (q 'y'): ==\n",
        "\n",
        "q=1\n",
        "\n",
        "r= request.form[\"mcharges\"]\n",
        "\n",
        "s= request.form[\"tcharges\"]\n",
        "\n",
        "|t=[[int(g1), int(g2), int(g3), int(h1), int (h2), int(h3), int(11), int(12),int(13),int(j1\n",
        "\n",
        "print(t)\n",
        "\n",
        "X = model.predict(t)\n",
        "\n",
        "print(x[0])\n",
        "\n",
        "if (x[[0]] <=0.5):\n",
        "\n",
        "y = \"No\"\n",
        "\n",
        "return render_template(\"predno.html\", z = y)\n",
        "\n",
        "if (x[[0]] >= 0.5):\n",
        "\n",
        "y = \"Yes\"\n",
        "\n",
        "return render_template(\"predyes.html\", z = y)"
      ],
      "metadata": {
        "id": "HgzuVvjPx49D"
      },
      "execution_count": null,
      "outputs": []
    }
  ],
  "metadata": {
    "colab": {
      "provenance": []
    },
    "kernelspec": {
      "display_name": "Python 3",
      "name": "python3"
    }
  },
  "nbformat": 4,
  "nbformat_minor": 0
}